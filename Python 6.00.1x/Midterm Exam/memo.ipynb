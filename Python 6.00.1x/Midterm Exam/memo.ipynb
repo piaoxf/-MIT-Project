{
 "cells": [
  {
   "cell_type": "code",
   "execution_count": 12,
   "metadata": {},
   "outputs": [
    {
     "name": "stdout",
     "output_type": "stream",
     "text": [
      "3\n"
     ]
    }
   ],
   "source": [
    "def myLog(x, b):\n",
    "    '''\n",
    "    x: a positive integer\n",
    "    b: a positive integer; b >= 2\n",
    "\n",
    "    returns: log_b(x), or, the logarithm of x relative to a base b.\n",
    "    '''\n",
    "    logarithm = 0\n",
    "    while b ** logarithm <= x:\n",
    "        logarithm += 1\n",
    "    \n",
    "    return logarithm-1\n",
    "\n",
    "print(myLog(15, 2)) # 4"
   ]
  },
  {
   "cell_type": "code",
   "execution_count": 17,
   "metadata": {},
   "outputs": [
    {
     "data": {
      "text/plain": [
       "[]"
      ]
     },
     "execution_count": 17,
     "metadata": {},
     "output_type": "execute_result"
    }
   ],
   "source": [
    "def lessThan4(aList):\n",
    "    '''\n",
    "    aList: a list of strings\n",
    "    '''\n",
    "    # Your code here\n",
    "    return [word for word in aList if len(word) < 4]\n",
    "\n",
    "aList = [\"apple\", \"cat1\", \"dog11\", \"banana\"]\n",
    "lessThan4(aList) # ['cat', 'dog']"
   ]
  },
  {
   "cell_type": "code",
   "execution_count": null,
   "metadata": {},
   "outputs": [
    {
     "data": {
      "text/plain": [
       "{10: [1], 20: [2, 3]}"
      ]
     },
     "execution_count": 19,
     "metadata": {},
     "output_type": "execute_result"
    }
   ],
   "source": [
    "def dict_invert(d):\n",
    "    '''\n",
    "    d: dict\n",
    "    Returns an inverted dictionary according to the instructions above\n",
    "    '''\n",
    "    # Your code here\n",
    "    inverted_dict = {}\n",
    "    for key, value in d.items():\n",
    "        if value in inverted_dict:\n",
    "            inverted_dict[value].append(key)\n",
    "        else:\n",
    "            inverted_dict[value] = [key]\n",
    "\n",
    "    for value in inverted_dict.values():\n",
    "        value.sort()\n",
    "\n",
    "    return inverted_dict\n",
    "\n",
    "d = {1:10, 3:20, 2:20}\n",
    "dict_invert(d)"
   ]
  },
  {
   "cell_type": "code",
   "execution_count": 22,
   "metadata": {},
   "outputs": [
    {
     "data": {
      "text/plain": [
       "[1, 'a', 'cat', 2, '2nd', 'last', 'dog', 4, 5]"
      ]
     },
     "execution_count": 22,
     "metadata": {},
     "output_type": "execute_result"
    }
   ],
   "source": [
    "# Write a function to flatten a list. The list contains other lists, strings, or ints. For example, [[1,'a',['cat'],2],[[[3]],'dog'],4,5] is flattened into [1,'a','cat',2,3,'dog',4,5] (order matters).\n",
    "\n",
    "def flatten(aList):\n",
    "    ''' \n",
    "    aList: a list \n",
    "    Returns a copy of aList, which is a flattened version of aList \n",
    "    '''\n",
    "    flatten_list = []\n",
    "    for element in aList:\n",
    "        if isinstance(element, list):\n",
    "            flatten_list.extend(flatten(element))\n",
    "        else:\n",
    "            flatten_list.append(element)\n",
    "    \n",
    "    return flatten_list\n",
    "\n",
    "\n",
    "aList = [[1,'a',['cat'],2],[[['2nd','last']],'dog'],4,5]\n",
    "flatten(aList) # [1,'a','cat',2,3,'dog',4,5]"
   ]
  },
  {
   "cell_type": "code",
   "execution_count": null,
   "metadata": {},
   "outputs": [
    {
     "name": "stdout",
     "output_type": "stream",
     "text": [
      "3\n",
      "['a', 'a', 'ca']\n"
     ]
    }
   ],
   "source": [
    "def satisfiesF(L):\n",
    "    \"\"\"\n",
    "    Assumes L is a list of strings\n",
    "    Assume function f is already defined for you and it maps a string to a Boolean\n",
    "    Mutates L such that it contains all of the strings, s, originally in L such\n",
    "            that f(s) returns True, and no other elements. Remaining elements in L\n",
    "            should be in the same order.\n",
    "    Returns the length of L after x\n",
    "    \"\"\"\n",
    "    # Your function implementation here\n",
    "    L[:] = [s for s in L if f(s)]\n",
    "    return len(L)\n",
    "\n",
    "run_satisfiesF(L, satisfiesF)\n",
    "\n",
    "\n",
    "def f(s):\n",
    "    return 'a' in s\n",
    "      \n",
    "L = ['a', 'b', 'a','ca']\n",
    "print(satisfiesF(L))\n",
    "print(L)\n",
    "# 2\n",
    "# ['a', 'a']"
   ]
  }
 ],
 "metadata": {
  "kernelspec": {
   "display_name": "6.86x",
   "language": "python",
   "name": "python3"
  },
  "language_info": {
   "codemirror_mode": {
    "name": "ipython",
    "version": 3
   },
   "file_extension": ".py",
   "mimetype": "text/x-python",
   "name": "python",
   "nbconvert_exporter": "python",
   "pygments_lexer": "ipython3",
   "version": "3.8.20"
  }
 },
 "nbformat": 4,
 "nbformat_minor": 2
}
