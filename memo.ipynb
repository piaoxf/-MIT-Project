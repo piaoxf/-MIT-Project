{
 "cells": [
  {
   "cell_type": "code",
   "execution_count": 6,
   "metadata": {},
   "outputs": [
    {
     "name": "stdout",
     "output_type": "stream",
     "text": [
      "8\n",
      "125\n",
      "1\n"
     ]
    }
   ],
   "source": [
    "def iterPower(base, exp):\n",
    "    '''\n",
    "    base: int or float.\n",
    "    exp: int >= 0\n",
    " \n",
    "    returns: int or float, base^exp\n",
    "    '''\n",
    "    # Your code here\n",
    "    # base^exp = base * base * base * ... * base = base * base^(exp-1)\n",
    "    if exp == 0:\n",
    "        return 1\n",
    "    else:\n",
    "        return base * iterPower(base, exp - 1)\n",
    "\n",
    "print(iterPower(2, 3)) # 8\n",
    "print(iterPower(5, 3)) # 125\n",
    "print(iterPower(2, 0)) # 1\n"
   ]
  },
  {
   "cell_type": "code",
   "execution_count": 1,
   "metadata": {},
   "outputs": [
    {
     "name": "stdout",
     "output_type": "stream",
     "text": [
      "1.1601405143737793\n",
      "0.07700061798095703\n"
     ]
    }
   ],
   "source": [
    "import time\n",
    "import numpy as np\n",
    "import scipy.sparse as sparse\n",
    "\n",
    "ITER = 100\n",
    "K = 10\n",
    "N = 10000\n",
    "\n",
    "def naive(indices, k):\n",
    "\t\tmat = [[1 if i == j else 0 for j in range(k)] for i in indices]\n",
    "\t\treturn np.array(mat).T\n",
    "\n",
    "\n",
    "def with_sparse(indices, k):\n",
    "\t\tn = len(indices)\n",
    "\t\tM = sparse.coo_matrix(([1]*n, (Y, range(n))), shape=(k,n)).toarray()\n",
    "\t\treturn M\n",
    "\n",
    "\n",
    "Y = np.random.randint(0, K, size=N)\n",
    "\n",
    "t0 = time.time()\n",
    "for i in range(ITER):\n",
    "\t\tnaive(Y, K)\n",
    "print(time.time() - t0)\n",
    "\n",
    "\n",
    "t0 = time.time()\n",
    "for i in range(ITER):\n",
    "\t\twith_sparse(Y, K)\n",
    "print(time.time() - t0)"
   ]
  },
  {
   "cell_type": "code",
   "execution_count": 24,
   "metadata": {},
   "outputs": [
    {
     "data": {
      "text/plain": [
       "0.977774"
      ]
     },
     "execution_count": 24,
     "metadata": {},
     "output_type": "execute_result"
    }
   ],
   "source": [
    "import numpy as np\n",
    "a = np.matrix('1;2;3')\n",
    "b = np.matrix('4;5;6')\n",
    "a * b.T\n",
    "np.dot(a, b.T)\n",
    "\n",
    "a = np.array([1,2,3])\n",
    "b = np.array([4,5,6])\n",
    "np.dot(a, b)\n",
    "np.dot(a, b.T)\n",
    "\n",
    "x1,x2 = (2,1)\n",
    "\n",
    "a = np.matrix([[x1],[x2]])\n",
    "\n",
    "b = np.matrix('1. 1.; 1. 1.; 1. 1.')\n",
    "c = b*a\n",
    "\n",
    "d = np.matrix('1. 1. 1.')\n",
    "d*c\n",
    "\n",
    "# no mod, batch 64, learning rate 0.01, momentum 0.9, Leakly ReLU\n",
    "# paramter => accuracy\n",
    "\n",
    "\n",
    "max([0.977774,0.976310,0.955047,0.966243,0.977607])\n"
   ]
  },
  {
   "cell_type": "code",
   "execution_count": null,
   "metadata": {},
   "outputs": [
    {
     "ename": "AssertionError",
     "evalue": "denom is zero",
     "output_type": "error",
     "traceback": [
      "\u001b[1;31m---------------------------------------------------------------------------\u001b[0m",
      "\u001b[1;31mAssertionError\u001b[0m                            Traceback (most recent call last)",
      "Cell \u001b[1;32mIn[7], line 16\u001b[0m\n\u001b[0;32m     12\u001b[0m     \u001b[38;5;28;01massert\u001b[39;00m \u001b[38;5;129;01mnot\u001b[39;00m denom \u001b[38;5;241m==\u001b[39m\u001b[38;5;241m0\u001b[39m, \u001b[38;5;124m\"\u001b[39m\u001b[38;5;124mdenom is zero\u001b[39m\u001b[38;5;124m\"\u001b[39m\n\u001b[0;32m     13\u001b[0m     \u001b[38;5;28;01mreturn\u001b[39;00m item \u001b[38;5;241m/\u001b[39m denom\n\u001b[1;32m---> 16\u001b[0m \u001b[43mfancy_divide\u001b[49m\u001b[43m(\u001b[49m\u001b[43m[\u001b[49m\u001b[38;5;241;43m0\u001b[39;49m\u001b[43m,\u001b[49m\u001b[43m \u001b[49m\u001b[38;5;241;43m2\u001b[39;49m\u001b[43m,\u001b[49m\u001b[43m \u001b[49m\u001b[38;5;241;43m4\u001b[39;49m\u001b[43m]\u001b[49m\u001b[43m,\u001b[49m\u001b[43m \u001b[49m\u001b[38;5;241;43m0\u001b[39;49m\u001b[43m)\u001b[49m\n",
      "Cell \u001b[1;32mIn[7], line 3\u001b[0m, in \u001b[0;36mfancy_divide\u001b[1;34m(list_of_numbers, index)\u001b[0m\n\u001b[0;32m      1\u001b[0m \u001b[38;5;28;01mdef\u001b[39;00m \u001b[38;5;21mfancy_divide\u001b[39m(list_of_numbers, index):\n\u001b[0;32m      2\u001b[0m    denom \u001b[38;5;241m=\u001b[39m list_of_numbers[index]\n\u001b[1;32m----> 3\u001b[0m    \u001b[38;5;28;01mreturn\u001b[39;00m \u001b[43m[\u001b[49m\u001b[43msimple_divide\u001b[49m\u001b[43m(\u001b[49m\u001b[43mitem\u001b[49m\u001b[43m,\u001b[49m\u001b[43m \u001b[49m\u001b[43mdenom\u001b[49m\u001b[43m)\u001b[49m\u001b[43m \u001b[49m\u001b[38;5;28;43;01mfor\u001b[39;49;00m\u001b[43m \u001b[49m\u001b[43mitem\u001b[49m\u001b[43m \u001b[49m\u001b[38;5;129;43;01min\u001b[39;49;00m\u001b[43m \u001b[49m\u001b[43mlist_of_numbers\u001b[49m\u001b[43m]\u001b[49m\n",
      "Cell \u001b[1;32mIn[7], line 3\u001b[0m, in \u001b[0;36m<listcomp>\u001b[1;34m(.0)\u001b[0m\n\u001b[0;32m      1\u001b[0m \u001b[38;5;28;01mdef\u001b[39;00m \u001b[38;5;21mfancy_divide\u001b[39m(list_of_numbers, index):\n\u001b[0;32m      2\u001b[0m    denom \u001b[38;5;241m=\u001b[39m list_of_numbers[index]\n\u001b[1;32m----> 3\u001b[0m    \u001b[38;5;28;01mreturn\u001b[39;00m [\u001b[43msimple_divide\u001b[49m\u001b[43m(\u001b[49m\u001b[43mitem\u001b[49m\u001b[43m,\u001b[49m\u001b[43m \u001b[49m\u001b[43mdenom\u001b[49m\u001b[43m)\u001b[49m \u001b[38;5;28;01mfor\u001b[39;00m item \u001b[38;5;129;01min\u001b[39;00m list_of_numbers]\n",
      "Cell \u001b[1;32mIn[7], line 12\u001b[0m, in \u001b[0;36msimple_divide\u001b[1;34m(item, denom)\u001b[0m\n\u001b[0;32m     11\u001b[0m \u001b[38;5;28;01mdef\u001b[39;00m \u001b[38;5;21msimple_divide\u001b[39m(item, denom):\n\u001b[1;32m---> 12\u001b[0m     \u001b[38;5;28;01massert\u001b[39;00m \u001b[38;5;129;01mnot\u001b[39;00m denom \u001b[38;5;241m==\u001b[39m\u001b[38;5;241m0\u001b[39m, \u001b[38;5;124m\"\u001b[39m\u001b[38;5;124mdenom is zero\u001b[39m\u001b[38;5;124m\"\u001b[39m\n\u001b[0;32m     13\u001b[0m     \u001b[38;5;28;01mreturn\u001b[39;00m item \u001b[38;5;241m/\u001b[39m denom\n",
      "\u001b[1;31mAssertionError\u001b[0m: denom is zero"
     ]
    }
   ],
   "source": [
    "def fancy_divide(list_of_numbers, index):\n",
    "   denom = list_of_numbers[index]\n",
    "   return [simple_divide(item, denom) for item in list_of_numbers]\n",
    "\n",
    "\n",
    "# def simple_divide(item, denom):\n",
    "#     try:\n",
    "#         return item / denom\n",
    "#     except ZeroDivisionError:\n",
    "#         return 0\n",
    "def simple_divide(item, denom):\n",
    "    assert not denom ==0, \"denom is zero\"\n",
    "    return item / denom\n",
    "\n",
    "\n",
    "import numpy as np\n",
    "import matplotlib.pyplot as plt\n",
    "\n",
    "# シグモイド関数とその導関数\n",
    "def sigmoid(x):\n",
    "    return 1 / (1 + np.exp(-x))\n",
    "\n",
    "def sigmoid_derivative(x):\n",
    "    s = sigmoid(x)\n",
    "    return s * (1 - s)\n",
    "\n",
    "# xの範囲\n",
    "x = np.linspace(-10, 10, 400)\n",
    "y = sigmoid(x)\n",
    "dy = sigmoid_derivative(x)\n",
    "\n",
    "# グラフの描画\n",
    "plt.figure(figsize=(10, 6))\n",
    "\n",
    "# シグモイド関数のグラフ\n",
    "plt.plot(x, y, label='Sigmoid $f(x)$', linewidth=2)\n",
    "# 導関数のグラフ\n",
    "plt.plot(x, dy, label=\"Derivative $f'(x)$\", linestyle='--', linewidth=2)\n",
    "\n",
    "plt.title('Sigmoid Function and Its Derivative')\n",
    "plt.xlabel('x')\n",
    "plt.ylabel('Value')\n",
    "plt.grid(True)\n",
    "plt.legend()\n",
    "plt.show()\n"
   ]
  }
 ],
 "metadata": {
  "kernelspec": {
   "display_name": "6.86x",
   "language": "python",
   "name": "python3"
  },
  "language_info": {
   "codemirror_mode": {
    "name": "ipython",
    "version": 3
   },
   "file_extension": ".py",
   "mimetype": "text/x-python",
   "name": "python",
   "nbconvert_exporter": "python",
   "pygments_lexer": "ipython3",
   "version": "3.11.11"
  }
 },
 "nbformat": 4,
 "nbformat_minor": 2
}
