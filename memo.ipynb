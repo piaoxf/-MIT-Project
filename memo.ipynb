{
 "cells": [
  {
   "cell_type": "code",
   "execution_count": 6,
   "metadata": {},
   "outputs": [
    {
     "name": "stdout",
     "output_type": "stream",
     "text": [
      "8\n",
      "125\n",
      "1\n"
     ]
    }
   ],
   "source": [
    "def iterPower(base, exp):\n",
    "    '''\n",
    "    base: int or float.\n",
    "    exp: int >= 0\n",
    " \n",
    "    returns: int or float, base^exp\n",
    "    '''\n",
    "    # Your code here\n",
    "    # base^exp = base * base * base * ... * base = base * base^(exp-1)\n",
    "    if exp == 0:\n",
    "        return 1\n",
    "    else:\n",
    "        return base * iterPower(base, exp - 1)\n",
    "\n",
    "print(iterPower(2, 3)) # 8\n",
    "print(iterPower(5, 3)) # 125\n",
    "print(iterPower(2, 0)) # 1\n"
   ]
  },
  {
   "cell_type": "code",
   "execution_count": null,
   "metadata": {},
   "outputs": [],
   "source": []
  }
 ],
 "metadata": {
  "kernelspec": {
   "display_name": "6.86x",
   "language": "python",
   "name": "python3"
  },
  "language_info": {
   "codemirror_mode": {
    "name": "ipython",
    "version": 3
   },
   "file_extension": ".py",
   "mimetype": "text/x-python",
   "name": "python",
   "nbconvert_exporter": "python",
   "pygments_lexer": "ipython3",
   "version": "3.8.20"
  }
 },
 "nbformat": 4,
 "nbformat_minor": 2
}
