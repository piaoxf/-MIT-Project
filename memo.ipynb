{
 "cells": [
  {
   "cell_type": "code",
   "execution_count": 6,
   "metadata": {},
   "outputs": [
    {
     "name": "stdout",
     "output_type": "stream",
     "text": [
      "8\n",
      "125\n",
      "1\n"
     ]
    }
   ],
   "source": [
    "def iterPower(base, exp):\n",
    "    '''\n",
    "    base: int or float.\n",
    "    exp: int >= 0\n",
    " \n",
    "    returns: int or float, base^exp\n",
    "    '''\n",
    "    # Your code here\n",
    "    # base^exp = base * base * base * ... * base = base * base^(exp-1)\n",
    "    if exp == 0:\n",
    "        return 1\n",
    "    else:\n",
    "        return base * iterPower(base, exp - 1)\n",
    "\n",
    "print(iterPower(2, 3)) # 8\n",
    "print(iterPower(5, 3)) # 125\n",
    "print(iterPower(2, 0)) # 1\n"
   ]
  },
  {
   "cell_type": "code",
   "execution_count": 1,
   "metadata": {},
   "outputs": [
    {
     "name": "stdout",
     "output_type": "stream",
     "text": [
      "1.1601405143737793\n",
      "0.07700061798095703\n"
     ]
    }
   ],
   "source": [
    "import time\n",
    "import numpy as np\n",
    "import scipy.sparse as sparse\n",
    "\n",
    "ITER = 100\n",
    "K = 10\n",
    "N = 10000\n",
    "\n",
    "def naive(indices, k):\n",
    "\t\tmat = [[1 if i == j else 0 for j in range(k)] for i in indices]\n",
    "\t\treturn np.array(mat).T\n",
    "\n",
    "\n",
    "def with_sparse(indices, k):\n",
    "\t\tn = len(indices)\n",
    "\t\tM = sparse.coo_matrix(([1]*n, (Y, range(n))), shape=(k,n)).toarray()\n",
    "\t\treturn M\n",
    "\n",
    "\n",
    "Y = np.random.randint(0, K, size=N)\n",
    "\n",
    "t0 = time.time()\n",
    "for i in range(ITER):\n",
    "\t\tnaive(Y, K)\n",
    "print(time.time() - t0)\n",
    "\n",
    "\n",
    "t0 = time.time()\n",
    "for i in range(ITER):\n",
    "\t\twith_sparse(Y, K)\n",
    "print(time.time() - t0)"
   ]
  },
  {
   "cell_type": "code",
   "execution_count": null,
   "metadata": {},
   "outputs": [
    {
     "data": {
      "text/plain": [
       "matrix([[1., 1., 1.]])"
      ]
     },
     "execution_count": 20,
     "metadata": {},
     "output_type": "execute_result"
    }
   ],
   "source": [
    "import numpy as np\n",
    "a = np.matrix('1;2;3')\n",
    "b = np.matrix('4;5;6')\n",
    "a * b.T\n",
    "np.dot(a, b.T)\n",
    "\n",
    "a = np.array([1,2,3])\n",
    "b = np.array([4,5,6])\n",
    "np.dot(a, b)\n",
    "np.dot(a, b.T)\n",
    "\n",
    "x1,x2 = (2,1)\n",
    "\n",
    "a = np.matrix([[x1],[x2]])\n",
    "\n",
    "b = np.matrix('1. 1.; 1. 1.; 1. 1.')\n",
    "b*a\n",
    "\n",
    "c = np.matrix('1. 1. 1.')"
   ]
  }
 ],
 "metadata": {
  "kernelspec": {
   "display_name": "6.86x",
   "language": "python",
   "name": "python3"
  },
  "language_info": {
   "codemirror_mode": {
    "name": "ipython",
    "version": 3
   },
   "file_extension": ".py",
   "mimetype": "text/x-python",
   "name": "python",
   "nbconvert_exporter": "python",
   "pygments_lexer": "ipython3",
   "version": "3.11.11"
  }
 },
 "nbformat": 4,
 "nbformat_minor": 2
}
